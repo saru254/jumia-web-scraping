{
 "cells": [
  {
   "cell_type": "code",
   "execution_count": 6,
   "metadata": {},
   "outputs": [],
   "source": [
    "#importing the necessary libraries\n",
    "import requests\n",
    "from bs4 import BeautifulSoup\n",
    "import csv\n"
   ]
  },
  {
   "cell_type": "code",
   "execution_count": 7,
   "metadata": {},
   "outputs": [
    {
     "data": {
      "text/plain": [
       "19"
      ]
     },
     "execution_count": 7,
     "metadata": {},
     "output_type": "execute_result"
    }
   ],
   "source": [
    "csv_file = open('jumia_products.csv', 'w', newline='', encoding='utf-8')\n",
    "csv_writer = csv.writer(csv_file)\n",
    "csv_writer.writerow(['Name', 'Price', 'Rating'])\n"
   ]
  },
  {
   "cell_type": "code",
   "execution_count": 8,
   "metadata": {},
   "outputs": [],
   "source": [
    "for page in range(1, 51):\n",
    "    url = \"https://www.jumia.co.ke/all-products/\" + \"?page=\" + str(page) + \"#catalog-listing\"\n",
    "    furl = requests.get(url)\n",
    "    jsoup = BeautifulSoup(furl.content, 'html.parser')\n",
    "    products = jsoup.find_all('div', class_='info')\n"
   ]
  },
  {
   "cell_type": "code",
   "execution_count": 9,
   "metadata": {},
   "outputs": [],
   "source": [
    "for product in products:\n",
    "    Name = product.find('h3', class_=\"name\").text.replace('\\n', '')\n",
    "    Price = product.find('div', class_=\"prc\").text.replace('\\n', '')\n",
    "    try:\n",
    "        Rating = product.find('div', class_='stars _s').text.replace('\\n', '')\n",
    "    except:\n",
    "        Rating = 'None'\n",
    "\n",
    "    info = [Name, Price, Rating]\n",
    "    csv_writer.writerow(info)\n"
   ]
  },
  {
   "cell_type": "code",
   "execution_count": 10,
   "metadata": {},
   "outputs": [],
   "source": [
    "csv_file.close()"
   ]
  }
 ],
 "metadata": {
  "kernelspec": {
   "display_name": "Python 3",
   "language": "python",
   "name": "python3"
  },
  "language_info": {
   "codemirror_mode": {
    "name": "ipython",
    "version": 3
   },
   "file_extension": ".py",
   "mimetype": "text/x-python",
   "name": "python",
   "nbconvert_exporter": "python",
   "pygments_lexer": "ipython3",
   "version": "3.11.2"
  }
 },
 "nbformat": 4,
 "nbformat_minor": 2
}
